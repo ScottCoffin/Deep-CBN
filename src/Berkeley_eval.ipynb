{
 "cells": [
  {
   "cell_type": "markdown",
   "id": "ce3176a0",
   "metadata": {},
   "source": [
    "# Evaluate Berkeley Predictions using Deep CBN"
   ]
  },
  {
   "cell_type": "code",
   "execution_count": null,
   "id": "ad59a531",
   "metadata": {},
   "outputs": [],
   "source": []
  }
 ],
 "metadata": {
  "language_info": {
   "name": "python"
  }
 },
 "nbformat": 4,
 "nbformat_minor": 5
}
