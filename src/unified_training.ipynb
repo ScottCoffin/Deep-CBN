{
 "cells": [
  {
   "cell_type": "markdown",
   "id": "3a6c7f46",
   "metadata": {},
   "source": [
    "# Unified Deep-CBN Training\n",
    "This notebook provides a unified training function capable of handling both classification and regression tasks using the Deep-CBN architecture."
   ]
  },
  {
   "cell_type": "code",
   "execution_count": 11,
   "id": "77318291",
   "metadata": {},
   "outputs": [],
   "source": [
    "import pandas as pd\n",
    "import numpy as np\n",
    "import tensorflow as tf\n",
    "from tensorflow.keras import layers, models, optimizers, metrics\n",
    "from tensorflow.keras.utils import to_categorical\n",
    "from sklearn.model_selection import train_test_split\n",
    "from sklearn.metrics import accuracy_score, precision_score, recall_score, f1_score, roc_auc_score, roc_curve, mean_absolute_error, mean_squared_error, r2_score\n",
    "import matplotlib.pyplot as plt"
   ]
  },
  {
   "cell_type": "code",
   "execution_count": 1,
   "id": "863b3f75",
   "metadata": {},
   "outputs": [],
   "source": [
    "# Character dictionary used to encode SMILES strings\n",
    "# Dictionary for converting SMILES characters to numbers\n",
    "smiles_dict = {\n",
    "    \"#\": 29, \"%\": 30, \")\": 31, \"(\": 1, \"+\": 32, \"-\": 33, \"/\": 34, \".\": 2,\n",
    "    \"1\": 35, \"0\": 3, \"3\": 36, \"2\": 4, \"5\": 37, \"4\": 5, \"7\": 38, \"6\": 6,\n",
    "    \"9\": 39, \"8\": 7, \"=\": 40, \"A\": 41, \"@\": 8, \"C\": 42, \"B\": 9, \"E\": 43,\n",
    "    \"D\": 10, \"G\": 44, \"F\": 11, \"I\": 45, \"H\": 12, \"K\": 46, \"M\": 47, \"L\": 13,\n",
    "    \"O\": 48, \"N\": 14, \"P\": 15, \"S\": 49, \"R\": 16, \"U\": 50, \"T\": 17, \"W\": 51,\n",
    "    \"V\": 18, \"Y\": 52, \"[\": 53, \"Z\": 19, \"]\": 54, \"\\\\\": 20, \"a\": 55, \"c\": 56,\n",
    "    \"b\": 21, \"e\": 57, \"d\": 22, \"g\": 58, \"f\": 23, \"i\": 59, \"h\": 24, \"m\": 60,\n",
    "    \"l\": 25, \"o\": 61, \"n\": 26, \"s\": 62, \"r\": 27, \"u\": 63, \"t\": 28, \"y\": 64,\n",
    "    \" \": 65, \":\": 66, \",\": 67, \"p\": 68, \"j\": 69, \"*\": 70\n",
    "}\n",
    "\n",
    "MAX_SMI_LEN = 100\n",
    "NUM_CHARS = 71\n",
    "\n",
    "def label_smiles(line):\n",
    "    X = np.zeros(MAX_SMI_LEN, dtype=int)\n",
    "    for i, ch in enumerate(line[:MAX_SMI_LEN]):\n",
    "        if ch in smiles_dict:\n",
    "            X[i] = smiles_dict[ch]\n",
    "    return X\n"
   ]
  },
  {
   "cell_type": "code",
   "execution_count": 3,
   "id": "2ddc174e",
   "metadata": {},
   "outputs": [],
   "source": [
    "def build_models(mode):\n",
    "    inp = layers.Input(shape=(MAX_SMI_LEN, NUM_CHARS), name='XDinput')\n",
    "    x = layers.Conv1D(64, 2, activation='relu')(inp)\n",
    "    x = layers.Conv1D(64, 4, activation='relu')(x)\n",
    "    x = layers.Conv1D(128, 4, activation='relu')(x)\n",
    "    feature_output = x\n",
    "    feature_model = models.Model(inp, feature_output, name='model_feature')\n",
    "\n",
    "    pred_inp = layers.Input(shape=(feature_output.shape[1], feature_output.shape[2]))\n",
    "    y = layers.GlobalAveragePooling1D()(pred_inp)\n",
    "    y = layers.Dense(512, activation='relu')(y)\n",
    "    y = layers.BatchNormalization()(y)\n",
    "    y = layers.Dropout(0.1)(y)\n",
    "    y = layers.Dense(256, activation='relu')(y)\n",
    "    y = layers.BatchNormalization()(y)\n",
    "    y = layers.Dropout(0.1)(y)\n",
    "    y = layers.Dense(64, activation='relu')(y)\n",
    "    if mode == 'classification':\n",
    "        outputs = layers.Dense(2, activation='softmax')(y)\n",
    "    else:\n",
    "        outputs = layers.Dense(1)(y)\n",
    "    pred_model = models.Model(pred_inp, outputs, name='model_pred')\n",
    "\n",
    "    inter_out = pred_model(feature_output)\n",
    "    interaction_model = models.Model(inp, inter_out, name='interactionModel')\n",
    "    return feature_model, pred_model, interaction_model\n"
   ]
  },
  {
   "cell_type": "code",
   "execution_count": 4,
   "id": "40524d0b",
   "metadata": {},
   "outputs": [],
   "source": [
    "def evaluate_metrics(y_true, y_pred, mode):\n",
    "    if mode == 'classification':\n",
    "        proba = y_pred[:, 1]\n",
    "        pred_cls = np.argmax(y_pred, axis=1)\n",
    "        fpr, tpr, _ = roc_curve(y_true, proba)\n",
    "        return {\n",
    "            'accuracy': accuracy_score(y_true, pred_cls),\n",
    "            'precision': precision_score(y_true, pred_cls, zero_division=0),\n",
    "            'recall': recall_score(y_true, pred_cls, zero_division=0),\n",
    "            'f1': f1_score(y_true, pred_cls, zero_division=0),\n",
    "            'auc': roc_auc_score(y_true, proba),\n",
    "            'roc': {'fpr': fpr.tolist(), 'tpr': tpr.tolist()}\n",
    "        }\n",
    "    else:\n",
    "        pred = y_pred.squeeze()\n",
    "        return {\n",
    "            'mae': mean_absolute_error(y_true, pred),\n",
    "            'mse': mean_squared_error(y_true, pred),\n",
    "            'r2': r2_score(y_true, pred)\n",
    "        }\n"
   ]
  },
  {
   "cell_type": "code",
   "execution_count": 5,
   "id": "dafaf38a",
   "metadata": {},
   "outputs": [],
   "source": [
    "def train_deep_cbn(df, target_col, mode=\"classification\", epochs=10, smiles_col=\"smiles\"):\n",
    "    smiles = df[smiles_col].astype(str)\n",
    "    y = df[target_col]\n",
    "    X = np.array([label_smiles(s) for s in smiles])\n",
    "    X = to_categorical(X, num_classes=NUM_CHARS)\n",
    "\n",
    "    X_train, X_test, y_train, y_test = train_test_split(\n",
    "        X, y.values, test_size=0.2, random_state=42,\n",
    "        stratify=y if mode==\"classification\" else None)\n",
    "\n",
    "    y_train_in = to_categorical(y_train, num_classes=2) if mode==\"classification\" else y_train\n",
    "    y_test_in = to_categorical(y_test, num_classes=2) if mode==\"classification\" else y_test\n",
    "\n",
    "    feat_model, pred_model, inter_model = build_models(mode)\n",
    "\n",
    "    if mode == \"classification\":\n",
    "        loss = \"categorical_crossentropy\"\n",
    "        METRICS = [metrics.CategoricalAccuracy(name='accuracy'),\n",
    "                   metrics.Precision(name='precision'),\n",
    "                   metrics.Recall(name='recall'),\n",
    "                   metrics.AUC(name='auc')]\n",
    "    else:\n",
    "        loss = \"mse\"\n",
    "        METRICS = [metrics.MeanAbsoluteError(name='mae'),\n",
    "                   metrics.MeanSquaredError(name='mse')]\n",
    "\n",
    "    es = tf.keras.callbacks.EarlyStopping(monitor='loss', patience=30, restore_best_weights=True)\n",
    "\n",
    "    # === Phase 1 ===\n",
    "    inter_model.compile(optimizer=optimizers.Adam(1e-3), loss=loss, metrics=METRICS)\n",
    "    inter_model.fit(X_train, y_train_in, epochs=epochs, batch_size=256, callbacks=[es], verbose=0)\n",
    "    phase1_pred = inter_model.predict(X_test)\n",
    "    phase1_metrics = evaluate_metrics(y_test, phase1_pred, mode)\n",
    "\n",
    "    # === Phase 2 ===\n",
    "    feature_train = feat_model.predict(X_train)\n",
    "    feature_test = feat_model.predict(X_test)\n",
    "    model_phaz2 = models.clone_model(pred_model)\n",
    "    model_phaz2.compile(optimizer=optimizers.Adam(1e-3), loss=loss, metrics=METRICS)\n",
    "    model_phaz2.fit(feature_train, y_train_in, epochs=epochs, batch_size=256, callbacks=[es], verbose=0)\n",
    "    phase2_pred = model_phaz2.predict(feature_test)\n",
    "    phase2_metrics = evaluate_metrics(y_test, phase2_pred, mode)\n",
    "\n",
    "    # === Phase 3 ===\n",
    "    inputs = feat_model.input\n",
    "    outputs = pred_model(feat_model.output)\n",
    "    model_phaz3 = models.Model(inputs, outputs, name='model_phase3')\n",
    "    model_phaz3.compile(optimizer=optimizers.Adam(1e-4), loss=loss, metrics=METRICS)\n",
    "    model_phaz3.fit(X_train, y_train_in, epochs=epochs, batch_size=256, callbacks=[es], verbose=0)\n",
    "    phase3_train_pred = model_phaz3.predict(X_train)\n",
    "    phase3_test_pred = model_phaz3.predict(X_test)\n",
    "    phase3_train_metrics = evaluate_metrics(y_train, phase3_train_pred, mode)\n",
    "    phase3_test_metrics = evaluate_metrics(y_test, phase3_test_pred, mode)\n",
    "\n",
    "    results = {\n",
    "        'phase1': phase1_metrics,\n",
    "        'phase2': phase2_metrics,\n",
    "        'phase3_train': phase3_train_metrics,\n",
    "        'phase3_test': phase3_test_metrics\n",
    "    }\n",
    "    if mode == 'classification':\n",
    "        results['roc'] = phase3_test_metrics.pop('roc')\n",
    "    return model_phaz3, results\n"
   ]
  },
  {
   "cell_type": "markdown",
   "id": "ccedbffe",
   "metadata": {},
   "source": [
    "# Example usage on Classifcation Tasks"
   ]
  },
  {
   "cell_type": "code",
   "execution_count": 12,
   "id": "c45841f1",
   "metadata": {},
   "outputs": [
    {
     "name": "stdout",
     "output_type": "stream",
     "text": [
      "\u001b[1m46/46\u001b[0m \u001b[32m━━━━━━━━━━━━━━━━━━━━\u001b[0m\u001b[37m\u001b[0m \u001b[1m1s\u001b[0m 18ms/step\n",
      "\u001b[1m182/182\u001b[0m \u001b[32m━━━━━━━━━━━━━━━━━━━━\u001b[0m\u001b[37m\u001b[0m \u001b[1m3s\u001b[0m 14ms/step\n",
      "\u001b[1m46/46\u001b[0m \u001b[32m━━━━━━━━━━━━━━━━━━━━\u001b[0m\u001b[37m\u001b[0m \u001b[1m1s\u001b[0m 12ms/step\n",
      "\u001b[1m46/46\u001b[0m \u001b[32m━━━━━━━━━━━━━━━━━━━━\u001b[0m\u001b[37m\u001b[0m \u001b[1m1s\u001b[0m 14ms/step\n",
      "\u001b[1m182/182\u001b[0m \u001b[32m━━━━━━━━━━━━━━━━━━━━\u001b[0m\u001b[37m\u001b[0m \u001b[1m4s\u001b[0m 19ms/step\n",
      "\u001b[1m46/46\u001b[0m \u001b[32m━━━━━━━━━━━━━━━━━━━━\u001b[0m\u001b[37m\u001b[0m \u001b[1m1s\u001b[0m 14ms/step\n",
      "\u001b[1m39/39\u001b[0m \u001b[32m━━━━━━━━━━━━━━━━━━━━\u001b[0m\u001b[37m\u001b[0m \u001b[1m1s\u001b[0m 23ms/step\n",
      "\u001b[1m155/155\u001b[0m \u001b[32m━━━━━━━━━━━━━━━━━━━━\u001b[0m\u001b[37m\u001b[0m \u001b[1m2s\u001b[0m 12ms/step\n",
      "\u001b[1m39/39\u001b[0m \u001b[32m━━━━━━━━━━━━━━━━━━━━\u001b[0m\u001b[37m\u001b[0m \u001b[1m1s\u001b[0m 13ms/step\n",
      "\u001b[1m39/39\u001b[0m \u001b[32m━━━━━━━━━━━━━━━━━━━━\u001b[0m\u001b[37m\u001b[0m \u001b[1m1s\u001b[0m 16ms/step\n",
      "\u001b[1m155/155\u001b[0m \u001b[32m━━━━━━━━━━━━━━━━━━━━\u001b[0m\u001b[37m\u001b[0m \u001b[1m1s\u001b[0m 5ms/step\n",
      "\u001b[1m39/39\u001b[0m \u001b[32m━━━━━━━━━━━━━━━━━━━━\u001b[0m\u001b[37m\u001b[0m \u001b[1m0s\u001b[0m 4ms/step\n",
      "\u001b[1m41/41\u001b[0m \u001b[32m━━━━━━━━━━━━━━━━━━━━\u001b[0m\u001b[37m\u001b[0m \u001b[1m2s\u001b[0m 32ms/step\n",
      "\u001b[1m162/162\u001b[0m \u001b[32m━━━━━━━━━━━━━━━━━━━━\u001b[0m\u001b[37m\u001b[0m \u001b[1m3s\u001b[0m 14ms/step\n",
      "\u001b[1m41/41\u001b[0m \u001b[32m━━━━━━━━━━━━━━━━━━━━\u001b[0m\u001b[37m\u001b[0m \u001b[1m1s\u001b[0m 14ms/step\n",
      "\u001b[1m41/41\u001b[0m \u001b[32m━━━━━━━━━━━━━━━━━━━━\u001b[0m\u001b[37m\u001b[0m \u001b[1m1s\u001b[0m 14ms/step\n",
      "\u001b[1m162/162\u001b[0m \u001b[32m━━━━━━━━━━━━━━━━━━━━\u001b[0m\u001b[37m\u001b[0m \u001b[1m3s\u001b[0m 16ms/step\n",
      "\u001b[1m41/41\u001b[0m \u001b[32m━━━━━━━━━━━━━━━━━━━━\u001b[0m\u001b[37m\u001b[0m \u001b[1m1s\u001b[0m 17ms/step\n"
     ]
    }
   ],
   "source": [
    "# Example usage on multiple targets\n",
    "data = pd.read_csv('../Data/tox21.csv')\n",
    "targets = ['NR-AR', 'NR-ER', 'NR-PPAR-gamma']\n",
    "summary = {}\n",
    "for tgt in targets:\n",
    "    df = data[[tgt, 'smiles']].dropna()\n",
    "    model, metrics_dict = train_deep_cbn(df, tgt, mode='classification', epochs=5)\n",
    "    summary[tgt] = metrics_dict"
   ]
  },
  {
   "cell_type": "markdown",
   "id": "3ed0db31",
   "metadata": {},
   "source": [
    "## Performance"
   ]
  },
  {
   "cell_type": "code",
   "execution_count": null,
   "id": "2b6ba968",
   "metadata": {},
   "outputs": [
    {
     "data": {
      "image/png": "[encoded data removed]",
      "text/plain": [
       "<Figure size 600x400 with 1 Axes>"
      ]
     },
     "metadata": {},
     "output_type": "display_data"
    },
    {
     "data": {
      "text/html": [
       "<div>\n",
       "<style scoped>\n",
       "    .dataframe tbody tr th:only-of-type {\n",
       "        vertical-align: middle;\n",
       "    }\n",
       "\n",
       "    .dataframe tbody tr th {\n",
       "        vertical-align: top;\n",
       "    }\n",
       "\n",
       "    .dataframe thead th {\n",
       "        text-align: right;\n",
       "    }\n",
       "</style>\n",
       "<table border=\"1\" class=\"dataframe\">\n",
       "  <thead>\n",
       "    <tr style=\"text-align: right;\">\n",
       "      <th></th>\n",
       "      <th>target</th>\n",
       "      <th>accuracy</th>\n",
       "      <th>precision</th>\n",
       "      <th>recall</th>\n",
       "      <th>f1</th>\n",
       "      <th>auc</th>\n",
       "    </tr>\n",
       "  </thead>\n",
       "  <tbody>\n",
       "    <tr>\n",
       "      <th>0</th>\n",
       "      <td>NR-AR</td>\n",
       "      <td>0.957330</td>\n",
       "      <td>0.0</td>\n",
       "      <td>0.0</td>\n",
       "      <td>0.0</td>\n",
       "      <td>0.765300</td>\n",
       "    </tr>\n",
       "    <tr>\n",
       "      <th>1</th>\n",
       "      <td>NR-ER</td>\n",
       "      <td>0.871671</td>\n",
       "      <td>0.0</td>\n",
       "      <td>0.0</td>\n",
       "      <td>0.0</td>\n",
       "      <td>0.686423</td>\n",
       "    </tr>\n",
       "    <tr>\n",
       "      <th>2</th>\n",
       "      <td>NR-PPAR-gamma</td>\n",
       "      <td>0.971318</td>\n",
       "      <td>0.0</td>\n",
       "      <td>0.0</td>\n",
       "      <td>0.0</td>\n",
       "      <td>0.659757</td>\n",
       "    </tr>\n",
       "  </tbody>\n",
       "</table>\n",
       "</div>"
      ],
      "text/plain": [
       "          target  accuracy  precision  recall   f1       auc\n",
       "0          NR-AR  0.957330        0.0     0.0  0.0  0.765300\n",
       "1          NR-ER  0.871671        0.0     0.0  0.0  0.686423\n",
       "2  NR-PPAR-gamma  0.971318        0.0     0.0  0.0  0.659757"
      ]
     },
     "execution_count": 13,
     "metadata": {},
     "output_type": "execute_result"
    }
   ],
   "source": [
    "# Summarize performance metrics and plot ROC curves\n",
    "summary_rows = []\n",
    "plt.figure(figsize=(6,4))\n",
    "for target, met in summary.items():\n",
    "    row = {'target': target}\n",
    "    row.update(met.get('phase3_test', {}))\n",
    "    summary_rows.append(row)\n",
    "    roc = met.get('roc')\n",
    "    if roc:\n",
    "        plt.plot(roc['fpr'], roc['tpr'], label=f\"{target} (AUC={met['phase3_test']['auc']:.2f})\")\n",
    "plt.plot([0,1],[0,1],'k--')\n",
    "plt.xlabel('False Positive Rate')\n",
    "plt.ylabel('True Positive Rate')\n",
    "plt.title('ROC Curves')\n",
    "plt.legend()\n",
    "plt.show()\n",
    "summary_df = pd.DataFrame(summary_rows)\n",
    "summary_df"
   ]
  },
  {
   "cell_type": "markdown",
   "id": "0c45749f",
   "metadata": {},
   "source": [
    "# Example Usage on Regression Tasks"
   ]
  },
  {
   "cell_type": "code",
   "execution_count": 27,
   "id": "48dc70d7",
   "metadata": {},
   "outputs": [
    {
     "name": "stdout",
     "output_type": "stream",
     "text": [
      "\u001b[1m17/17\u001b[0m \u001b[32m━━━━━━━━━━━━━━━━━━━━\u001b[0m\u001b[37m\u001b[0m \u001b[1m0s\u001b[0m 7ms/step\n",
      "\u001b[1m5/5\u001b[0m \u001b[32m━━━━━━━━━━━━━━━━━━━━\u001b[0m\u001b[37m\u001b[0m \u001b[1m0s\u001b[0m 6ms/step \n"
     ]
    }
   ],
   "source": [
    "# Example usage on regression task\n",
    "import matplotlib.pyplot as plt\n",
    "from sklearn.model_selection import train_test_split\n",
    "from sklearn.metrics import mean_squared_error, mean_absolute_error, r2_score\n",
    "\n",
    "data = pd.read_csv('../Data/freesolv.csv')\n",
    "targets = ['freesolv']\n",
    "summary = {}\n",
    "for tgt in targets:\n",
    "    df = data[[tgt, 'smiles']].dropna()\n",
    "    model, metrics_dict = train_deep_cbn(df, tgt, mode='regression', epochs=5)\n",
    "    summary[tgt] = metrics_dict\n",
    "\n",
    "    smiles = df['smiles'].astype(str)\n",
    "    y = df[tgt].values\n",
    "    X = np.array([label_smiles(s) for s in smiles])\n",
    "    X = to_categorical(X, num_classes=NUM_CHARS)\n",
    "    _, X_test, _, y_test = train_test_split(X, y, test_size=0.2, random_state=42)\n",
    "\n",
    "    preds = model.predict(X_test).squeeze()\n",
    "    rmse = np.sqrt(mean_squared_error(y_test, preds))\n",
    "    mae = mean_absolute_error(y_test, preds)\n",
    "    r2 = r2_score(y_test, preds)\n",
    "\n",
    "    plt.figure(figsize=(5,5))\n",
    "    plt.scatter(y_test, preds, alpha=0.7, edgecolor='k')\n",
    "    lims = [min(y_test.min(), preds.min()), max(y_test.max(), preds.max())]\n",
    "    plt.plot(lims, lims, 'r--')\n",
    "    plt.xlabel(f'True {tgt}')\n",
    "    plt.ylabel(f'Predicted {tgt}')\n",
    "    plt.title(f'{tgt} Regression')\n",
    "    plt.text(0.05, 0.95, f'RMSE={rmse:.3f}\n",
    "MAE={mae:.3f}\n",
    "R²={r2:.3f}',\n",
    "             transform=plt.gca().transAxes, verticalalignment='top')\n",
    "    plt.show()\n"
   ]
  },
  {
   "cell_type": "code",
   "execution_count": null,
   "id": "70330732",
   "metadata": {},
   "outputs": [],
   "source": []
  }
 ],
 "metadata": {
  "kernelspec": {
   "display_name": "Python 3",
   "language": "python",
   "name": "python3"
  },
  "language_info": {
   "codemirror_mode": {
    "name": "ipython",
    "version": 3
   },
   "file_extension": ".py",
   "mimetype": "text/x-python",
   "name": "python",
   "nbconvert_exporter": "python",
   "pygments_lexer": "ipython3",
   "version": "3.12.5"
  }
 },
 "nbformat": 4,
 "nbformat_minor": 5
}
